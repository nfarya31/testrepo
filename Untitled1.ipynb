{
 "cells": [
  {
   "cell_type": "code",
   "execution_count": 1,
   "metadata": {},
   "outputs": [
    {
     "name": "stdout",
     "output_type": "stream",
     "text": [
      "Your first name is  \n"
     ]
    }
   ],
   "source": [
    "import tkinter as tk\n",
    "from tkinter import simpledialog\n",
    "\n",
    "application_window = tk.Tk()\n",
    "\n",
    "answer = simpledialog.askstring(\"Input\", \"What is your first name?\",\n",
    "                                parent=application_window)\n",
    "\n",
    "if answer is not None:\n",
    "    print(\"Your first name is \", answer)\n",
    "else:\n",
    "    print(\"You don't have a first name?\")"
   ]
  },
  {
   "cell_type": "code",
   "execution_count": 2,
   "metadata": {},
   "outputs": [],
   "source": [
    "import tkinter as tk\n",
    "from tkinter import filedialog\n",
    "import os\n",
    "\n",
    "application_window = tk.Tk()\n",
    "\n",
    "# Build a list of tuples for each file type the file dialog should display\n",
    "my_filetypes = [('all files', '.*'), ('text files', '.txt')]\n",
    "\n",
    "# Ask the user to select a folder.\n",
    "answer = filedialog.askdirectory(parent=application_window,\n",
    "                                 initialdir=os.getcwd(),\n",
    "                                 title=\"Please select a folder:\")"
   ]
  },
  {
   "cell_type": "code",
   "execution_count": null,
   "metadata": {},
   "outputs": [],
   "source": []
  }
 ],
 "metadata": {
  "kernelspec": {
   "display_name": "Python 3",
   "language": "python",
   "name": "python3"
  },
  "language_info": {
   "codemirror_mode": {
    "name": "ipython",
    "version": 3
   },
   "file_extension": ".py",
   "mimetype": "text/x-python",
   "name": "python",
   "nbconvert_exporter": "python",
   "pygments_lexer": "ipython3",
   "version": "3.7.4"
  }
 },
 "nbformat": 4,
 "nbformat_minor": 4
}
